{
 "cells": [
  {
   "cell_type": "code",
   "execution_count": 7,
   "metadata": {},
   "outputs": [
    {
     "name": "stdout",
     "output_type": "stream",
     "text": [
      "Enter list items to be assigned\n",
      "1\n",
      "2\n",
      "3\n",
      "4\n",
      "5\n",
      "Elements have been assigned \n",
      "LIST: [1, 2, 3, 4, 5]\n"
     ]
    }
   ],
   "source": [
    "#ASSINGNING ELEMENTS TO DIFFERENT LISTS\n",
    "list1=[]\n",
    "print(\"Enter list items to be assigned\")\n",
    "for i in range(5):\n",
    "    d=int(input())\n",
    "    list1.append(d)\n",
    "print(\"Elements have been assigned \\nLIST:\",list1)\n"
   ]
  },
  {
   "cell_type": "code",
   "execution_count": 10,
   "metadata": {},
   "outputs": [
    {
     "name": "stdout",
     "output_type": "stream",
     "text": [
      "The list elements are: \n",
      "1,2,3,4,5,"
     ]
    }
   ],
   "source": [
    "#ACCESSING ELEMENTS FROM A TUPLE\n",
    "tuple1=(1,2,3,4,5)\n",
    "print(\"The list elements are: \")\n",
    "for i in range(len(tuple1)):\n",
    "    print(tuple1[i],end=\",\")\n"
   ]
  },
  {
   "cell_type": "code",
   "execution_count": 22,
   "metadata": {},
   "outputs": [
    {
     "name": "stdout",
     "output_type": "stream",
     "text": [
      "Enter number of items in dictionary: 2\n",
      "Key: Name\n",
      "Value: Karthik\n",
      "Key: Age\n",
      "Value: 18\n",
      "The dictionary:  {'Name': 'Karthik', 'Age': '18'}\n",
      "Enter key of element you want to remove: Age\n",
      "Dictionary after deletion:  {'Name': 'Karthik'}\n"
     ]
    }
   ],
   "source": [
    "#DELETING DIFFERENT DICTIONARY ELEMENTS\\\n",
    "dict1={}\n",
    "n=int(input(\"Enter number of items in dictionary: \"))\n",
    "for i in range(n):\n",
    "    k=input(\"Key: \")\n",
    "    v=input(\"Value: \")\n",
    "    dict1[k]=v\n",
    "print(\"The dictionary: \",dict1)\n",
    "c=input(\"Enter key of element you want to remove: \")\n",
    "dict1.pop(c)\n",
    "print(\"Dictionary after deletion: \",dict1)\n",
    "     "
   ]
  }
 ],
 "metadata": {
  "kernelspec": {
   "display_name": "Python 3",
   "language": "python",
   "name": "python3"
  },
  "language_info": {
   "codemirror_mode": {
    "name": "ipython",
    "version": 3
   },
   "file_extension": ".py",
   "mimetype": "text/x-python",
   "name": "python",
   "nbconvert_exporter": "python",
   "pygments_lexer": "ipython3",
   "version": "3.7.6"
  }
 },
 "nbformat": 4,
 "nbformat_minor": 4
}
