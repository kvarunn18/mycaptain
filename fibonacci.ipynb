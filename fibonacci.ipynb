{
 "cells": [
  {
   "cell_type": "code",
   "execution_count": 7,
   "metadata": {},
   "outputs": [
    {
     "name": "stdout",
     "output_type": "stream",
     "text": [
      "Enter end limit: 145\n",
      "0,1,1,2,3,5,8,13,21,34,55,89,144,"
     ]
    }
   ],
   "source": [
    "#!\n",
    "n=int(input(\"Enter end limit: \"))\n",
    "a,b,=-1,1\n",
    "c=a+b\n",
    "while(c<n):\n",
    "    print(c,end=',')\n",
    "    a=b\n",
    "    b=c\n",
    "    c=a+b\n",
    "\n"
   ]
  }
 ],
 "metadata": {
  "kernelspec": {
   "display_name": "Python 3",
   "language": "python",
   "name": "python3"
  },
  "language_info": {
   "codemirror_mode": {
    "name": "ipython",
    "version": 3
   },
   "file_extension": ".py",
   "mimetype": "text/x-python",
   "name": "python",
   "nbconvert_exporter": "python",
   "pygments_lexer": "ipython3",
   "version": "3.7.6"
  }
 },
 "nbformat": 4,
 "nbformat_minor": 4
}
