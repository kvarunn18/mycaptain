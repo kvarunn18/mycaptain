{
 "cells": [
  {
   "cell_type": "code",
   "execution_count": 3,
   "metadata": {},
   "outputs": [
    {
     "name": "stdout",
     "output_type": "stream",
     "text": [
      "Enter number of items in list: 5\n",
      "Enter Numbers:\n",
      "12\n",
      "-7\n",
      "5\n",
      "64\n",
      "-14\n",
      "The positive numbers: \n",
      "12 5 64 "
     ]
    }
   ],
   "source": [
    "#!\n",
    "n=int(input(\"Enter number of items in list: \"))\n",
    "print(\"Enter Numbers:\")\n",
    "list1=[]\n",
    "for i in range(n):\n",
    "    list1.append(int(input()))\n",
    "print(\"The positive numbers: \")\n",
    "for num in list1: \n",
    "    if num >= 0: \n",
    "       print(num, end = \" \") "
   ]
  },
  {
   "cell_type": "code",
   "execution_count": null,
   "metadata": {},
   "outputs": [],
   "source": []
  }
 ],
 "metadata": {
  "kernelspec": {
   "display_name": "Python 3",
   "language": "python",
   "name": "python3"
  },
  "language_info": {
   "codemirror_mode": {
    "name": "ipython",
    "version": 3
   },
   "file_extension": ".py",
   "mimetype": "text/x-python",
   "name": "python",
   "nbconvert_exporter": "python",
   "pygments_lexer": "ipython3",
   "version": "3.7.6"
  }
 },
 "nbformat": 4,
 "nbformat_minor": 4
}
